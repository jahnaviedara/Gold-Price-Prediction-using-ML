{
 "cells": [
  {
   "cell_type": "code",
   "execution_count": 1,
   "id": "c99e0a18",
   "metadata": {
    "_cell_guid": "b1076dfc-b9ad-4769-8c92-a6c4dae69d19",
    "_uuid": "8f2839f25d086af736a60e9eeb907d3b93b6e0e5",
    "execution": {
     "iopub.execute_input": "2022-10-22T04:46:07.517684Z",
     "iopub.status.busy": "2022-10-22T04:46:07.517207Z",
     "iopub.status.idle": "2022-10-22T04:46:09.120892Z",
     "shell.execute_reply": "2022-10-22T04:46:09.119574Z"
    },
    "papermill": {
     "duration": 1.616004,
     "end_time": "2022-10-22T04:46:09.123824",
     "exception": false,
     "start_time": "2022-10-22T04:46:07.507820",
     "status": "completed"
    },
    "tags": []
   },
   "outputs": [],
   "source": [
    "import numpy as np \n",
    "import pandas as pd\n",
    "import matplotlib.pyplot as plt\n",
    "import seaborn as sns\n",
    "from sklearn.model_selection import train_test_split, cross_val_score\n",
    "from sklearn.ensemble import RandomForestRegressor\n",
    "from sklearn import metrics\n",
    "import warnings\n",
    "warnings.filterwarnings('ignore')\n",
    "%matplotlib inline"
   ]
  },
  {
   "cell_type": "code",
   "execution_count": 2,
   "id": "62574d0a",
   "metadata": {
    "execution": {
     "iopub.execute_input": "2022-10-22T04:46:09.139732Z",
     "iopub.status.busy": "2022-10-22T04:46:09.138530Z",
     "iopub.status.idle": "2022-10-22T04:46:09.168766Z",
     "shell.execute_reply": "2022-10-22T04:46:09.167425Z"
    },
    "papermill": {
     "duration": 0.041159,
     "end_time": "2022-10-22T04:46:09.171674",
     "exception": false,
     "start_time": "2022-10-22T04:46:09.130515",
     "status": "completed"
    },
    "tags": []
   },
   "outputs": [],
   "source": [
    "gold_data =pd.read_csv(\"../input/gold-price-data/gld_price_data.csv\")"
   ]
  },
  {
   "cell_type": "code",
   "execution_count": 3,
   "id": "292ace01",
   "metadata": {
    "execution": {
     "iopub.execute_input": "2022-10-22T04:46:09.187019Z",
     "iopub.status.busy": "2022-10-22T04:46:09.186151Z",
     "iopub.status.idle": "2022-10-22T04:46:09.210425Z",
     "shell.execute_reply": "2022-10-22T04:46:09.209582Z"
    },
    "papermill": {
     "duration": 0.034824,
     "end_time": "2022-10-22T04:46:09.213208",
     "exception": false,
     "start_time": "2022-10-22T04:46:09.178384",
     "status": "completed"
    },
    "tags": []
   },
   "outputs": [
    {
     "data": {
      "text/html": [
       "<div>\n",
       "<style scoped>\n",
       "    .dataframe tbody tr th:only-of-type {\n",
       "        vertical-align: middle;\n",
       "    }\n",
       "\n",
       "    .dataframe tbody tr th {\n",
       "        vertical-align: top;\n",
       "    }\n",
       "\n",
       "    .dataframe thead th {\n",
       "        text-align: right;\n",
       "    }\n",
       "</style>\n",
       "<table border=\"1\" class=\"dataframe\">\n",
       "  <thead>\n",
       "    <tr style=\"text-align: right;\">\n",
       "      <th></th>\n",
       "      <th>Date</th>\n",
       "      <th>SPX</th>\n",
       "      <th>GLD</th>\n",
       "      <th>USO</th>\n",
       "      <th>SLV</th>\n",
       "      <th>EUR/USD</th>\n",
       "    </tr>\n",
       "  </thead>\n",
       "  <tbody>\n",
       "    <tr>\n",
       "      <th>0</th>\n",
       "      <td>1/2/2008</td>\n",
       "      <td>1447.160034</td>\n",
       "      <td>84.860001</td>\n",
       "      <td>78.470001</td>\n",
       "      <td>15.180</td>\n",
       "      <td>1.471692</td>\n",
       "    </tr>\n",
       "    <tr>\n",
       "      <th>1</th>\n",
       "      <td>1/3/2008</td>\n",
       "      <td>1447.160034</td>\n",
       "      <td>85.570000</td>\n",
       "      <td>78.370003</td>\n",
       "      <td>15.285</td>\n",
       "      <td>1.474491</td>\n",
       "    </tr>\n",
       "    <tr>\n",
       "      <th>2</th>\n",
       "      <td>1/4/2008</td>\n",
       "      <td>1411.630005</td>\n",
       "      <td>85.129997</td>\n",
       "      <td>77.309998</td>\n",
       "      <td>15.167</td>\n",
       "      <td>1.475492</td>\n",
       "    </tr>\n",
       "    <tr>\n",
       "      <th>3</th>\n",
       "      <td>1/7/2008</td>\n",
       "      <td>1416.180054</td>\n",
       "      <td>84.769997</td>\n",
       "      <td>75.500000</td>\n",
       "      <td>15.053</td>\n",
       "      <td>1.468299</td>\n",
       "    </tr>\n",
       "    <tr>\n",
       "      <th>4</th>\n",
       "      <td>1/8/2008</td>\n",
       "      <td>1390.189941</td>\n",
       "      <td>86.779999</td>\n",
       "      <td>76.059998</td>\n",
       "      <td>15.590</td>\n",
       "      <td>1.557099</td>\n",
       "    </tr>\n",
       "  </tbody>\n",
       "</table>\n",
       "</div>"
      ],
      "text/plain": [
       "       Date          SPX        GLD        USO     SLV   EUR/USD\n",
       "0  1/2/2008  1447.160034  84.860001  78.470001  15.180  1.471692\n",
       "1  1/3/2008  1447.160034  85.570000  78.370003  15.285  1.474491\n",
       "2  1/4/2008  1411.630005  85.129997  77.309998  15.167  1.475492\n",
       "3  1/7/2008  1416.180054  84.769997  75.500000  15.053  1.468299\n",
       "4  1/8/2008  1390.189941  86.779999  76.059998  15.590  1.557099"
      ]
     },
     "execution_count": 3,
     "metadata": {},
     "output_type": "execute_result"
    }
   ],
   "source": [
    "gold_data.head()"
   ]
  },
  {
   "cell_type": "code",
   "execution_count": 4,
   "id": "628f5b73",
   "metadata": {
    "execution": {
     "iopub.execute_input": "2022-10-22T04:46:09.228825Z",
     "iopub.status.busy": "2022-10-22T04:46:09.227790Z",
     "iopub.status.idle": "2022-10-22T04:46:09.242119Z",
     "shell.execute_reply": "2022-10-22T04:46:09.241263Z"
    },
    "papermill": {
     "duration": 0.025095,
     "end_time": "2022-10-22T04:46:09.245000",
     "exception": false,
     "start_time": "2022-10-22T04:46:09.219905",
     "status": "completed"
    },
    "tags": []
   },
   "outputs": [
    {
     "data": {
      "text/html": [
       "<div>\n",
       "<style scoped>\n",
       "    .dataframe tbody tr th:only-of-type {\n",
       "        vertical-align: middle;\n",
       "    }\n",
       "\n",
       "    .dataframe tbody tr th {\n",
       "        vertical-align: top;\n",
       "    }\n",
       "\n",
       "    .dataframe thead th {\n",
       "        text-align: right;\n",
       "    }\n",
       "</style>\n",
       "<table border=\"1\" class=\"dataframe\">\n",
       "  <thead>\n",
       "    <tr style=\"text-align: right;\">\n",
       "      <th></th>\n",
       "      <th>Date</th>\n",
       "      <th>SPX</th>\n",
       "      <th>GLD</th>\n",
       "      <th>USO</th>\n",
       "      <th>SLV</th>\n",
       "      <th>EUR/USD</th>\n",
       "    </tr>\n",
       "  </thead>\n",
       "  <tbody>\n",
       "    <tr>\n",
       "      <th>2285</th>\n",
       "      <td>5/8/2018</td>\n",
       "      <td>2671.919922</td>\n",
       "      <td>124.589996</td>\n",
       "      <td>14.0600</td>\n",
       "      <td>15.5100</td>\n",
       "      <td>1.186789</td>\n",
       "    </tr>\n",
       "    <tr>\n",
       "      <th>2286</th>\n",
       "      <td>5/9/2018</td>\n",
       "      <td>2697.790039</td>\n",
       "      <td>124.330002</td>\n",
       "      <td>14.3700</td>\n",
       "      <td>15.5300</td>\n",
       "      <td>1.184722</td>\n",
       "    </tr>\n",
       "    <tr>\n",
       "      <th>2287</th>\n",
       "      <td>5/10/2018</td>\n",
       "      <td>2723.070068</td>\n",
       "      <td>125.180000</td>\n",
       "      <td>14.4100</td>\n",
       "      <td>15.7400</td>\n",
       "      <td>1.191753</td>\n",
       "    </tr>\n",
       "    <tr>\n",
       "      <th>2288</th>\n",
       "      <td>5/14/2018</td>\n",
       "      <td>2730.129883</td>\n",
       "      <td>124.489998</td>\n",
       "      <td>14.3800</td>\n",
       "      <td>15.5600</td>\n",
       "      <td>1.193118</td>\n",
       "    </tr>\n",
       "    <tr>\n",
       "      <th>2289</th>\n",
       "      <td>5/16/2018</td>\n",
       "      <td>2725.780029</td>\n",
       "      <td>122.543800</td>\n",
       "      <td>14.4058</td>\n",
       "      <td>15.4542</td>\n",
       "      <td>1.182033</td>\n",
       "    </tr>\n",
       "  </tbody>\n",
       "</table>\n",
       "</div>"
      ],
      "text/plain": [
       "           Date          SPX         GLD      USO      SLV   EUR/USD\n",
       "2285   5/8/2018  2671.919922  124.589996  14.0600  15.5100  1.186789\n",
       "2286   5/9/2018  2697.790039  124.330002  14.3700  15.5300  1.184722\n",
       "2287  5/10/2018  2723.070068  125.180000  14.4100  15.7400  1.191753\n",
       "2288  5/14/2018  2730.129883  124.489998  14.3800  15.5600  1.193118\n",
       "2289  5/16/2018  2725.780029  122.543800  14.4058  15.4542  1.182033"
      ]
     },
     "execution_count": 4,
     "metadata": {},
     "output_type": "execute_result"
    }
   ],
   "source": [
    "gold_data.tail()"
   ]
  },
  {
   "cell_type": "code",
   "execution_count": 5,
   "id": "e804cd2a",
   "metadata": {
    "execution": {
     "iopub.execute_input": "2022-10-22T04:46:09.261088Z",
     "iopub.status.busy": "2022-10-22T04:46:09.260312Z",
     "iopub.status.idle": "2022-10-22T04:46:09.266672Z",
     "shell.execute_reply": "2022-10-22T04:46:09.265801Z"
    },
    "papermill": {
     "duration": 0.016897,
     "end_time": "2022-10-22T04:46:09.268742",
     "exception": false,
     "start_time": "2022-10-22T04:46:09.251845",
     "status": "completed"
    },
    "tags": []
   },
   "outputs": [
    {
     "data": {
      "text/plain": [
       "(2290, 6)"
      ]
     },
     "execution_count": 5,
     "metadata": {},
     "output_type": "execute_result"
    }
   ],
   "source": [
    "gold_data.shape"
   ]
  },
  {
   "cell_type": "code",
   "execution_count": 6,
   "id": "388dfb3c",
   "metadata": {
    "execution": {
     "iopub.execute_input": "2022-10-22T04:46:09.284484Z",
     "iopub.status.busy": "2022-10-22T04:46:09.283722Z",
     "iopub.status.idle": "2022-10-22T04:46:09.310729Z",
     "shell.execute_reply": "2022-10-22T04:46:09.309439Z"
    },
    "papermill": {
     "duration": 0.038564,
     "end_time": "2022-10-22T04:46:09.314080",
     "exception": false,
     "start_time": "2022-10-22T04:46:09.275516",
     "status": "completed"
    },
    "tags": []
   },
   "outputs": [
    {
     "name": "stdout",
     "output_type": "stream",
     "text": [
      "<class 'pandas.core.frame.DataFrame'>\n",
      "RangeIndex: 2290 entries, 0 to 2289\n",
      "Data columns (total 6 columns):\n",
      " #   Column   Non-Null Count  Dtype  \n",
      "---  ------   --------------  -----  \n",
      " 0   Date     2290 non-null   object \n",
      " 1   SPX      2290 non-null   float64\n",
      " 2   GLD      2290 non-null   float64\n",
      " 3   USO      2290 non-null   float64\n",
      " 4   SLV      2290 non-null   float64\n",
      " 5   EUR/USD  2290 non-null   float64\n",
      "dtypes: float64(5), object(1)\n",
      "memory usage: 107.5+ KB\n"
     ]
    }
   ],
   "source": [
    "gold_data.info()"
   ]
  },
  {
   "cell_type": "code",
   "execution_count": 7,
   "id": "dc0d45ed",
   "metadata": {
    "execution": {
     "iopub.execute_input": "2022-10-22T04:46:09.330825Z",
     "iopub.status.busy": "2022-10-22T04:46:09.330415Z",
     "iopub.status.idle": "2022-10-22T04:46:09.340989Z",
     "shell.execute_reply": "2022-10-22T04:46:09.339781Z"
    },
    "papermill": {
     "duration": 0.021746,
     "end_time": "2022-10-22T04:46:09.343782",
     "exception": false,
     "start_time": "2022-10-22T04:46:09.322036",
     "status": "completed"
    },
    "tags": []
   },
   "outputs": [
    {
     "data": {
      "text/plain": [
       "Date       0\n",
       "SPX        0\n",
       "GLD        0\n",
       "USO        0\n",
       "SLV        0\n",
       "EUR/USD    0\n",
       "dtype: int64"
      ]
     },
     "execution_count": 7,
     "metadata": {},
     "output_type": "execute_result"
    }
   ],
   "source": [
    "gold_data.isnull().sum()"
   ]
  },
  {
   "cell_type": "code",
   "execution_count": 8,
   "id": "58f65a6f",
   "metadata": {
    "execution": {
     "iopub.execute_input": "2022-10-22T04:46:09.360671Z",
     "iopub.status.busy": "2022-10-22T04:46:09.360220Z",
     "iopub.status.idle": "2022-10-22T04:46:09.392658Z",
     "shell.execute_reply": "2022-10-22T04:46:09.390508Z"
    },
    "papermill": {
     "duration": 0.045197,
     "end_time": "2022-10-22T04:46:09.396644",
     "exception": false,
     "start_time": "2022-10-22T04:46:09.351447",
     "status": "completed"
    },
    "tags": []
   },
   "outputs": [
    {
     "data": {
      "text/html": [
       "<div>\n",
       "<style scoped>\n",
       "    .dataframe tbody tr th:only-of-type {\n",
       "        vertical-align: middle;\n",
       "    }\n",
       "\n",
       "    .dataframe tbody tr th {\n",
       "        vertical-align: top;\n",
       "    }\n",
       "\n",
       "    .dataframe thead th {\n",
       "        text-align: right;\n",
       "    }\n",
       "</style>\n",
       "<table border=\"1\" class=\"dataframe\">\n",
       "  <thead>\n",
       "    <tr style=\"text-align: right;\">\n",
       "      <th></th>\n",
       "      <th>SPX</th>\n",
       "      <th>GLD</th>\n",
       "      <th>USO</th>\n",
       "      <th>SLV</th>\n",
       "      <th>EUR/USD</th>\n",
       "    </tr>\n",
       "  </thead>\n",
       "  <tbody>\n",
       "    <tr>\n",
       "      <th>count</th>\n",
       "      <td>2290.000000</td>\n",
       "      <td>2290.000000</td>\n",
       "      <td>2290.000000</td>\n",
       "      <td>2290.000000</td>\n",
       "      <td>2290.000000</td>\n",
       "    </tr>\n",
       "    <tr>\n",
       "      <th>mean</th>\n",
       "      <td>1654.315776</td>\n",
       "      <td>122.732875</td>\n",
       "      <td>31.842221</td>\n",
       "      <td>20.084997</td>\n",
       "      <td>1.283653</td>\n",
       "    </tr>\n",
       "    <tr>\n",
       "      <th>std</th>\n",
       "      <td>519.111540</td>\n",
       "      <td>23.283346</td>\n",
       "      <td>19.523517</td>\n",
       "      <td>7.092566</td>\n",
       "      <td>0.131547</td>\n",
       "    </tr>\n",
       "    <tr>\n",
       "      <th>min</th>\n",
       "      <td>676.530029</td>\n",
       "      <td>70.000000</td>\n",
       "      <td>7.960000</td>\n",
       "      <td>8.850000</td>\n",
       "      <td>1.039047</td>\n",
       "    </tr>\n",
       "    <tr>\n",
       "      <th>25%</th>\n",
       "      <td>1239.874969</td>\n",
       "      <td>109.725000</td>\n",
       "      <td>14.380000</td>\n",
       "      <td>15.570000</td>\n",
       "      <td>1.171313</td>\n",
       "    </tr>\n",
       "    <tr>\n",
       "      <th>50%</th>\n",
       "      <td>1551.434998</td>\n",
       "      <td>120.580002</td>\n",
       "      <td>33.869999</td>\n",
       "      <td>17.268500</td>\n",
       "      <td>1.303297</td>\n",
       "    </tr>\n",
       "    <tr>\n",
       "      <th>75%</th>\n",
       "      <td>2073.010070</td>\n",
       "      <td>132.840004</td>\n",
       "      <td>37.827501</td>\n",
       "      <td>22.882500</td>\n",
       "      <td>1.369971</td>\n",
       "    </tr>\n",
       "    <tr>\n",
       "      <th>max</th>\n",
       "      <td>2872.870117</td>\n",
       "      <td>184.589996</td>\n",
       "      <td>117.480003</td>\n",
       "      <td>47.259998</td>\n",
       "      <td>1.598798</td>\n",
       "    </tr>\n",
       "  </tbody>\n",
       "</table>\n",
       "</div>"
      ],
      "text/plain": [
       "               SPX          GLD          USO          SLV      EUR/USD\n",
       "count  2290.000000  2290.000000  2290.000000  2290.000000  2290.000000\n",
       "mean   1654.315776   122.732875    31.842221    20.084997     1.283653\n",
       "std     519.111540    23.283346    19.523517     7.092566     0.131547\n",
       "min     676.530029    70.000000     7.960000     8.850000     1.039047\n",
       "25%    1239.874969   109.725000    14.380000    15.570000     1.171313\n",
       "50%    1551.434998   120.580002    33.869999    17.268500     1.303297\n",
       "75%    2073.010070   132.840004    37.827501    22.882500     1.369971\n",
       "max    2872.870117   184.589996   117.480003    47.259998     1.598798"
      ]
     },
     "execution_count": 8,
     "metadata": {},
     "output_type": "execute_result"
    }
   ],
   "source": [
    "gold_data.describe()"
   ]
  },
  {
   "cell_type": "code",
   "execution_count": 9,
   "id": "59e595fc",
   "metadata": {
    "execution": {
     "iopub.execute_input": "2022-10-22T04:46:09.417614Z",
     "iopub.status.busy": "2022-10-22T04:46:09.416324Z",
     "iopub.status.idle": "2022-10-22T04:46:09.426223Z",
     "shell.execute_reply": "2022-10-22T04:46:09.425002Z"
    },
    "papermill": {
     "duration": 0.02269,
     "end_time": "2022-10-22T04:46:09.429677",
     "exception": false,
     "start_time": "2022-10-22T04:46:09.406987",
     "status": "completed"
    },
    "tags": []
   },
   "outputs": [],
   "source": [
    "correlation =gold_data.corr()"
   ]
  },
  {
   "cell_type": "code",
   "execution_count": 10,
   "id": "d6dfa6b3",
   "metadata": {
    "execution": {
     "iopub.execute_input": "2022-10-22T04:46:09.454662Z",
     "iopub.status.busy": "2022-10-22T04:46:09.453120Z",
     "iopub.status.idle": "2022-10-22T04:46:09.829636Z",
     "shell.execute_reply": "2022-10-22T04:46:09.828462Z"
    },
    "papermill": {
     "duration": 0.391896,
     "end_time": "2022-10-22T04:46:09.832255",
     "exception": false,
     "start_time": "2022-10-22T04:46:09.440359",
     "status": "completed"
    },
    "tags": []
   },
   "outputs": [
    {
     "data": {
      "text/plain": [
       "<AxesSubplot:>"
      ]
     },
     "execution_count": 10,
     "metadata": {},
     "output_type": "execute_result"
    },
    {
     "data": {
      "image/png": "[encoded data removed]",
      "text/plain": [
       "<Figure size 576x576 with 2 Axes>"
      ]
     },
     "metadata": {
      "needs_background": "light"
     },
     "output_type": "display_data"
    }
   ],
   "source": [
    "plt.figure(figsize =(8,8))\n",
    "sns.heatmap(correlation ,cbar=True ,square=True ,fmt='.1f',annot=True,annot_kws={'size':8},cmap='coolwarm')"
   ]
  },
  {
   "cell_type": "code",
   "execution_count": 11,
   "id": "d29ce23c",
   "metadata": {
    "execution": {
     "iopub.execute_input": "2022-10-22T04:46:09.850089Z",
     "iopub.status.busy": "2022-10-22T04:46:09.849640Z",
     "iopub.status.idle": "2022-10-22T04:46:09.857299Z",
     "shell.execute_reply": "2022-10-22T04:46:09.855998Z"
    },
    "papermill": {
     "duration": 0.020108,
     "end_time": "2022-10-22T04:46:09.860393",
     "exception": false,
     "start_time": "2022-10-22T04:46:09.840285",
     "status": "completed"
    },
    "tags": []
   },
   "outputs": [
    {
     "name": "stdout",
     "output_type": "stream",
     "text": [
      "SPX        0.049345\n",
      "GLD        1.000000\n",
      "USO       -0.186360\n",
      "SLV        0.866632\n",
      "EUR/USD   -0.024375\n",
      "Name: GLD, dtype: float64\n"
     ]
    }
   ],
   "source": [
    "print(correlation['GLD'])"
   ]
  },
  {
   "cell_type": "code",
   "execution_count": 12,
   "id": "b6c59b80",
   "metadata": {
    "execution": {
     "iopub.execute_input": "2022-10-22T04:46:09.878802Z",
     "iopub.status.busy": "2022-10-22T04:46:09.878396Z",
     "iopub.status.idle": "2022-10-22T04:46:10.202436Z",
     "shell.execute_reply": "2022-10-22T04:46:10.201160Z"
    },
    "papermill": {
     "duration": 0.336171,
     "end_time": "2022-10-22T04:46:10.205402",
     "exception": false,
     "start_time": "2022-10-22T04:46:09.869231",
     "status": "completed"
    },
    "tags": []
   },
   "outputs": [
    {
     "data": {
      "text/plain": [
       "<AxesSubplot:xlabel='GLD', ylabel='Density'>"
      ]
     },
     "execution_count": 12,
     "metadata": {},
     "output_type": "execute_result"
    },
    {
     "data": {
      "image/png": "[encoded data removed]",
      "text/plain": [
       "<Figure size 432x288 with 1 Axes>"
      ]
     },
     "metadata": {
      "needs_background": "light"
     },
     "output_type": "display_data"
    }
   ],
   "source": [
    "sns.distplot(gold_data['GLD'],color='blue')"
   ]
  },
  {
   "cell_type": "markdown",
   "id": "801e31e8",
   "metadata": {
    "papermill": {
     "duration": 0.007836,
     "end_time": "2022-10-22T04:46:10.221498",
     "exception": false,
     "start_time": "2022-10-22T04:46:10.213662",
     "status": "completed"
    },
    "tags": []
   },
   "source": [
    "**Splitting the features and target set**"
   ]
  },
  {
   "cell_type": "code",
   "execution_count": 13,
   "id": "ea7eaa07",
   "metadata": {
    "execution": {
     "iopub.execute_input": "2022-10-22T04:46:10.240657Z",
     "iopub.status.busy": "2022-10-22T04:46:10.239259Z",
     "iopub.status.idle": "2022-10-22T04:46:10.245500Z",
     "shell.execute_reply": "2022-10-22T04:46:10.244571Z"
    },
    "papermill": {
     "duration": 0.018013,
     "end_time": "2022-10-22T04:46:10.247776",
     "exception": false,
     "start_time": "2022-10-22T04:46:10.229763",
     "status": "completed"
    },
    "tags": []
   },
   "outputs": [],
   "source": [
    "X = gold_data.drop(['Date','GLD'],axis=1)\n",
    "Y = gold_data['GLD']"
   ]
  },
  {
   "cell_type": "code",
   "execution_count": 14,
   "id": "3c6fa3ac",
   "metadata": {
    "execution": {
     "iopub.execute_input": "2022-10-22T04:46:10.267061Z",
     "iopub.status.busy": "2022-10-22T04:46:10.265977Z",
     "iopub.status.idle": "2022-10-22T04:46:10.275985Z",
     "shell.execute_reply": "2022-10-22T04:46:10.274832Z"
    },
    "papermill": {
     "duration": 0.022226,
     "end_time": "2022-10-22T04:46:10.278439",
     "exception": false,
     "start_time": "2022-10-22T04:46:10.256213",
     "status": "completed"
    },
    "tags": []
   },
   "outputs": [
    {
     "name": "stdout",
     "output_type": "stream",
     "text": [
      "              SPX        USO      SLV   EUR/USD\n",
      "0     1447.160034  78.470001  15.1800  1.471692\n",
      "1     1447.160034  78.370003  15.2850  1.474491\n",
      "2     1411.630005  77.309998  15.1670  1.475492\n",
      "3     1416.180054  75.500000  15.0530  1.468299\n",
      "4     1390.189941  76.059998  15.5900  1.557099\n",
      "...           ...        ...      ...       ...\n",
      "2285  2671.919922  14.060000  15.5100  1.186789\n",
      "2286  2697.790039  14.370000  15.5300  1.184722\n",
      "2287  2723.070068  14.410000  15.7400  1.191753\n",
      "2288  2730.129883  14.380000  15.5600  1.193118\n",
      "2289  2725.780029  14.405800  15.4542  1.182033\n",
      "\n",
      "[2290 rows x 4 columns]\n"
     ]
    }
   ],
   "source": [
    "print(X)"
   ]
  },
  {
   "cell_type": "code",
   "execution_count": 15,
   "id": "3961cbc3",
   "metadata": {
    "execution": {
     "iopub.execute_input": "2022-10-22T04:46:10.298490Z",
     "iopub.status.busy": "2022-10-22T04:46:10.297743Z",
     "iopub.status.idle": "2022-10-22T04:46:10.305462Z",
     "shell.execute_reply": "2022-10-22T04:46:10.303861Z"
    },
    "papermill": {
     "duration": 0.021127,
     "end_time": "2022-10-22T04:46:10.307986",
     "exception": false,
     "start_time": "2022-10-22T04:46:10.286859",
     "status": "completed"
    },
    "tags": []
   },
   "outputs": [
    {
     "name": "stdout",
     "output_type": "stream",
     "text": [
      "0        84.860001\n",
      "1        85.570000\n",
      "2        85.129997\n",
      "3        84.769997\n",
      "4        86.779999\n",
      "           ...    \n",
      "2285    124.589996\n",
      "2286    124.330002\n",
      "2287    125.180000\n",
      "2288    124.489998\n",
      "2289    122.543800\n",
      "Name: GLD, Length: 2290, dtype: float64\n"
     ]
    }
   ],
   "source": [
    "print(Y)"
   ]
  },
  {
   "cell_type": "code",
   "execution_count": 16,
   "id": "508acf29",
   "metadata": {
    "execution": {
     "iopub.execute_input": "2022-10-22T04:46:10.328173Z",
     "iopub.status.busy": "2022-10-22T04:46:10.326860Z",
     "iopub.status.idle": "2022-10-22T04:46:10.334702Z",
     "shell.execute_reply": "2022-10-22T04:46:10.333417Z"
    },
    "papermill": {
     "duration": 0.020633,
     "end_time": "2022-10-22T04:46:10.337479",
     "exception": false,
     "start_time": "2022-10-22T04:46:10.316846",
     "status": "completed"
    },
    "tags": []
   },
   "outputs": [],
   "source": [
    "X_train,X_test,Y_train,Y_test =train_test_split(X,Y,test_size = 0.2, random_state=43)"
   ]
  },
  {
   "cell_type": "code",
   "execution_count": 17,
   "id": "6483febd",
   "metadata": {
    "execution": {
     "iopub.execute_input": "2022-10-22T04:46:10.357860Z",
     "iopub.status.busy": "2022-10-22T04:46:10.357434Z",
     "iopub.status.idle": "2022-10-22T04:46:10.363301Z",
     "shell.execute_reply": "2022-10-22T04:46:10.361930Z"
    },
    "papermill": {
     "duration": 0.018836,
     "end_time": "2022-10-22T04:46:10.365593",
     "exception": false,
     "start_time": "2022-10-22T04:46:10.346757",
     "status": "completed"
    },
    "tags": []
   },
   "outputs": [],
   "source": [
    "regressor=RandomForestRegressor(n_estimators=100)"
   ]
  },
  {
   "cell_type": "code",
   "execution_count": 18,
   "id": "f1fae22b",
   "metadata": {
    "execution": {
     "iopub.execute_input": "2022-10-22T04:46:10.384679Z",
     "iopub.status.busy": "2022-10-22T04:46:10.384228Z",
     "iopub.status.idle": "2022-10-22T04:46:10.986028Z",
     "shell.execute_reply": "2022-10-22T04:46:10.984801Z"
    },
    "papermill": {
     "duration": 0.614575,
     "end_time": "2022-10-22T04:46:10.988639",
     "exception": false,
     "start_time": "2022-10-22T04:46:10.374064",
     "status": "completed"
    },
    "tags": []
   },
   "outputs": [
    {
     "data": {
      "text/plain": [
       "RandomForestRegressor()"
      ]
     },
     "execution_count": 18,
     "metadata": {},
     "output_type": "execute_result"
    }
   ],
   "source": [
    "regressor.fit(X_train,Y_train)"
   ]
  },
  {
   "cell_type": "code",
   "execution_count": 19,
   "id": "80b6241f",
   "metadata": {
    "execution": {
     "iopub.execute_input": "2022-10-22T04:46:11.007821Z",
     "iopub.status.busy": "2022-10-22T04:46:11.007415Z",
     "iopub.status.idle": "2022-10-22T04:46:11.036941Z",
     "shell.execute_reply": "2022-10-22T04:46:11.035542Z"
    },
    "papermill": {
     "duration": 0.042346,
     "end_time": "2022-10-22T04:46:11.039862",
     "exception": false,
     "start_time": "2022-10-22T04:46:10.997516",
     "status": "completed"
    },
    "tags": []
   },
   "outputs": [],
   "source": [
    "test_data_prediction = regressor.predict(X_test)"
   ]
  },
  {
   "cell_type": "code",
   "execution_count": 20,
   "id": "20b6ea1c",
   "metadata": {
    "execution": {
     "iopub.execute_input": "2022-10-22T04:46:11.059127Z",
     "iopub.status.busy": "2022-10-22T04:46:11.058735Z",
     "iopub.status.idle": "2022-10-22T04:46:11.069075Z",
     "shell.execute_reply": "2022-10-22T04:46:11.067896Z"
    },
    "papermill": {
     "duration": 0.023457,
     "end_time": "2022-10-22T04:46:11.072329",
     "exception": false,
     "start_time": "2022-10-22T04:46:11.048872",
     "status": "completed"
    },
    "tags": []
   },
   "outputs": [
    {
     "name": "stdout",
     "output_type": "stream",
     "text": [
      "[120.46180051 120.13839937 165.06420115  89.82490001 125.34749971\n",
      " 140.69809983  91.14350072 161.09449934 127.42259885  90.74900038\n",
      " 104.61240036 125.3702007  118.57350028 160.20140073  88.37689903\n",
      " 123.8055008  107.19070182 115.53589858 109.87110061 114.9601997\n",
      " 118.53910103 106.85139883 123.02899826 126.22809984 122.32779983\n",
      " 169.01009976 118.61030164 121.76419885 146.36010219 107.85840055\n",
      " 131.97779935 160.45909773 104.76070105 107.53789969  94.42960068\n",
      " 161.98740438 114.65130001 113.78399899 125.22570093 113.89740083\n",
      " 103.15310064 107.16450011 122.5503995  157.87420024 115.55879926\n",
      " 115.57850051 155.19170162 155.0195046  110.22989818  80.73789934\n",
      " 128.24670132 119.89330124 152.3996992   96.15369882 127.87540092\n",
      " 114.42329975 112.9719012  155.25770087 168.17859842  91.98249962\n",
      " 117.96950045  87.03749789 135.6966992  158.01340048 103.0734006\n",
      " 152.18100041 124.86970022 162.23579804 118.17859921 104.58240176\n",
      " 147.88870301 119.84960059 172.2041994  121.64250089 166.6031016\n",
      " 132.69450031 107.78639956 119.9863     126.97820051 108.4107992\n",
      "  91.99860015 109.50459837 177.25030218 115.32480024 152.44039949\n",
      "  71.56910066  93.19990093 166.83339812 107.68280009 147.10470342\n",
      " 128.23020108 124.49970106 153.76590066 111.51109954 114.62490105\n",
      " 123.97890006 120.9473998   87.96869874 113.18309964 125.62600054\n",
      " 102.12000113 128.0199996  157.99680042 114.80100008  80.30039999\n",
      " 157.69780102 101.98179873 173.57369894 109.17720205 122.87869967\n",
      " 127.47719745 108.15769834  87.69549908 161.3962009  107.74440068\n",
      " 113.03950081 165.8554992  105.35140095  96.65760214 119.1237994\n",
      " 153.1329994  126.0042018  107.14199868 104.72400148 166.73750294\n",
      " 107.83420184 115.59269989 162.42820139  87.75639856 139.65579872\n",
      " 113.45779982 155.92240263 154.79439913 111.08279963 104.37749948\n",
      " 114.78160038 123.17769931  90.86739971 154.9564015  118.46489938\n",
      " 107.10160056 156.8117994  107.26120205  87.41179771 145.76459854\n",
      " 126.61850021 154.20500192 141.11820218 121.21470001 166.68239786\n",
      " 106.65390034 112.54500103 153.84070015 125.96019936 116.80400054\n",
      " 120.78520014 122.4872998  174.84139941 124.49569938 121.82310055\n",
      " 110.55149822 160.19120377 115.62079982 160.24770085 150.26899784\n",
      " 107.50019945 101.84789845  86.47139869 126.70739869  87.33889774\n",
      " 124.69609995 117.76060044 135.20980088 153.25010378 121.83180042\n",
      " 101.84589958 118.89099924  88.89119863 114.1026004  119.22010115\n",
      " 118.05659915 102.14230096 121.78860037 140.22859956 154.82129975\n",
      " 127.68089954 119.36090083 114.48080006 126.50159816 112.8772989\n",
      " 125.59000097  93.93100022 124.39339912 153.03520292 126.12939988\n",
      " 122.28809915 117.92780109 156.31189927 128.20689933 129.70989868\n",
      " 115.40109903 106.08600008 163.45529771 156.57250081 125.68760074\n",
      "  92.01279895 154.81900085 149.2858024   91.16099946 167.25780062\n",
      " 130.65310224 152.21160145 120.1699995  118.19420184 129.69169805\n",
      "  84.41139992 125.09980022 133.42300113  88.4481988  102.24719979\n",
      " 119.84189885  89.68269956 149.38680419 120.49079893  88.89960035\n",
      " 113.96229988  91.0057997  131.12940205 125.12730076 125.53879966\n",
      "  92.49519961 109.18680021 121.55829811 102.14530078 166.05259882\n",
      " 126.97929907 117.48380029 171.3128986  127.97430118 119.94700003\n",
      " 127.25779953 118.31549963 125.35360082 133.3319017  115.56639961\n",
      " 148.54440023 120.73529893  90.55809936 102.58590011  76.59609852\n",
      " 113.00130073 131.01989931 122.47609972 124.16419942 117.562899\n",
      " 112.363701   155.1325036   92.73039948 118.41279972 121.77320049\n",
      " 162.25220407 111.38220024 115.06320055  90.66240081 121.9624374\n",
      " 121.77999983 117.6824004  164.21540283 148.78190043 170.76900215\n",
      " 120.21540003 165.03640091 117.59659988 163.72350013 126.09920093\n",
      " 147.32170053 154.26429993  85.58609993  82.16770079  93.72669946\n",
      " 108.42669962 108.94189968 135.1115013  121.63380024 162.24909946\n",
      " 121.78419974 124.54220123 160.11910315  89.79759991 120.07520078\n",
      "  84.55599977 151.77919772 115.329      120.12570052 118.34400032\n",
      " 154.04600288 161.29800056 154.17800351  98.32440207  84.72279807\n",
      "  88.99759867 112.60729935 103.17530035 165.41849862 127.95629993\n",
      " 159.27050018 135.28410211 131.92890343 120.07480096 103.10589928\n",
      " 166.17200219 125.74270134 108.38249924 125.49820042 117.50619994\n",
      "  90.52100152 138.67740178  89.37510006 163.4155038  125.27859938\n",
      " 116.65370107 117.13520004 154.70310163  93.78589958 153.19999866\n",
      " 165.52590091  87.15389858 161.04850161 126.48560043 129.53529851\n",
      " 141.8293016  118.33159976 117.65830092 108.29739992 154.03330071\n",
      " 161.43640113  89.04300047 111.22700048 125.52750009 118.70473861\n",
      " 139.37080253 114.45700053 128.75129951 127.31760096  82.33249895\n",
      " 115.39670083 155.20770063 171.30690264 101.54220035 121.56419928\n",
      " 132.20759978 125.63530207 126.39440016 117.09530134 167.94689834\n",
      "  73.79219995 155.14500129 139.35420166 162.41669825 133.11819833\n",
      " 121.35960146 117.60919946 106.74450108 155.33519879 119.97170084\n",
      " 125.28990029 125.38159994 120.0419013   94.34810146 129.44319924\n",
      " 115.619501   140.06550202 119.84550061 159.43290317 154.37650407\n",
      " 132.251505   121.36650186 119.71863835 123.73680161 168.78989947\n",
      " 108.56219915  85.80430054 115.15110061 128.50390094  91.09600104\n",
      " 158.73240177 126.8364987  135.2047008  166.81499979 127.86300079\n",
      " 128.35580027 122.79289958  72.38890173 120.35990193 117.17850111\n",
      " 130.21049849 127.08209819 126.33530026 114.63150057 111.92340004\n",
      " 122.12290008 168.34739808 117.32320035 142.41160178 152.84049946\n",
      " 114.44109987 114.68889968 110.16710042 111.21719998 143.09620182\n",
      " 113.93490013 165.85950082  84.73159955  88.51369958 125.52750068\n",
      " 126.05939979 103.07630069 108.49629909 111.39980007 132.38619803\n",
      " 115.53600004 117.84930082 119.76150004 120.72679976 120.17900114\n",
      " 160.43690465 116.77150039 121.49279894 122.96560002  86.33799914\n",
      " 155.98980084 104.6300011  104.44920117  88.39219995 127.71790114\n",
      " 119.38480074 152.45390151 121.68779989 116.20669976  87.9950996\n",
      " 113.34250069 111.99880122 116.90290003 107.4950999  123.69720043\n",
      " 116.4755006  153.09090065 120.53790079  90.76180076 120.09170075\n",
      " 135.36809999 115.00400025 132.10359756 144.78790133 114.34609932\n",
      " 120.84939888 169.86919815 121.28890041]\n"
     ]
    }
   ],
   "source": [
    "print(test_data_prediction)"
   ]
  },
  {
   "cell_type": "code",
   "execution_count": 21,
   "id": "33177c85",
   "metadata": {
    "execution": {
     "iopub.execute_input": "2022-10-22T04:46:11.091718Z",
     "iopub.status.busy": "2022-10-22T04:46:11.091257Z",
     "iopub.status.idle": "2022-10-22T04:46:11.098904Z",
     "shell.execute_reply": "2022-10-22T04:46:11.097375Z"
    },
    "papermill": {
     "duration": 0.020176,
     "end_time": "2022-10-22T04:46:11.101407",
     "exception": false,
     "start_time": "2022-10-22T04:46:11.081231",
     "status": "completed"
    },
    "tags": []
   },
   "outputs": [
    {
     "name": "stdout",
     "output_type": "stream",
     "text": [
      "R Squared Error: 0.9874291417067762\n"
     ]
    }
   ],
   "source": [
    "error_score=metrics.r2_score(Y_test,test_data_prediction)\n",
    "print(\"R Squared Error:\",error_score)"
   ]
  },
  {
   "cell_type": "code",
   "execution_count": 22,
   "id": "83a85dee",
   "metadata": {
    "execution": {
     "iopub.execute_input": "2022-10-22T04:46:11.121142Z",
     "iopub.status.busy": "2022-10-22T04:46:11.120717Z",
     "iopub.status.idle": "2022-10-22T04:46:11.125850Z",
     "shell.execute_reply": "2022-10-22T04:46:11.124697Z"
    },
    "papermill": {
     "duration": 0.018004,
     "end_time": "2022-10-22T04:46:11.128441",
     "exception": false,
     "start_time": "2022-10-22T04:46:11.110437",
     "status": "completed"
    },
    "tags": []
   },
   "outputs": [],
   "source": [
    "Y_test = list(Y_test)"
   ]
  },
  {
   "cell_type": "code",
   "execution_count": 23,
   "id": "d95fb759",
   "metadata": {
    "execution": {
     "iopub.execute_input": "2022-10-22T04:46:11.148607Z",
     "iopub.status.busy": "2022-10-22T04:46:11.148194Z",
     "iopub.status.idle": "2022-10-22T04:46:11.398468Z",
     "shell.execute_reply": "2022-10-22T04:46:11.396982Z"
    },
    "papermill": {
     "duration": 0.263528,
     "end_time": "2022-10-22T04:46:11.401241",
     "exception": false,
     "start_time": "2022-10-22T04:46:11.137713",
     "status": "completed"
    },
    "tags": []
   },
   "outputs": [
    {
     "data": {
      "image/png": "[encoded data removed]",
      "text/plain": [
       "<Figure size 432x288 with 1 Axes>"
      ]
     },
     "metadata": {
      "needs_background": "light"
     },
     "output_type": "display_data"
    }
   ],
   "source": [
    "plt.plot(Y_test,color='blue',label='Actual Value')\n",
    "plt.plot(test_data_prediction,color='yellow',label='Predicted Value')\n",
    "plt.title('Actual vs Predicted Price')\n",
    "plt.xlabel('Number of values')\n",
    "plt.ylabel('GLD price')\n",
    "plt.legend()\n",
    "plt.show()"
   ]
  },
  {
   "cell_type": "code",
   "execution_count": null,
   "id": "09384065",
   "metadata": {
    "papermill": {
     "duration": 0.009401,
     "end_time": "2022-10-22T04:46:11.420400",
     "exception": false,
     "start_time": "2022-10-22T04:46:11.410999",
     "status": "completed"
    },
    "tags": []
   },
   "outputs": [],
   "source": []
  }
 ],
 "metadata": {
  "kernelspec": {
   "display_name": "Python 3",
   "language": "python",
   "name": "python3"
  },
  "language_info": {
   "codemirror_mode": {
    "name": "ipython",
    "version": 3
   },
   "file_extension": ".py",
   "mimetype": "text/x-python",
   "name": "python",
   "nbconvert_exporter": "python",
   "pygments_lexer": "ipython3",
   "version": "3.7.12"
  },
  "papermill": {
   "default_parameters": {},
   "duration": 13.72254,
   "end_time": "2022-10-22T04:46:12.252664",
   "environment_variables": {},
   "exception": null,
   "input_path": "__notebook__.ipynb",
   "output_path": "__notebook__.ipynb",
   "parameters": {},
   "start_time": "2022-10-22T04:45:58.530124",
   "version": "2.3.4"
  }
 },
 "nbformat": 4,
 "nbformat_minor": 5
}
